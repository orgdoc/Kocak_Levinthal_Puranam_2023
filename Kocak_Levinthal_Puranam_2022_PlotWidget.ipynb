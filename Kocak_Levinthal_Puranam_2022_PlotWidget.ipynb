{
 "cells": [
  {
   "cell_type": "code",
   "execution_count": 1,
   "metadata": {},
   "outputs": [
    {
     "data": {
      "application/vnd.jupyter.widget-view+json": {
       "model_id": "a7ace2e83c9343de96bb4353813bb731",
       "version_major": 2,
       "version_minor": 0
      },
      "text/plain": [
       "interactive(children=(Dropdown(description='tau', options=(0.01, 0.05, 0.1, 1.0), value=0.01), IntSlider(value…"
      ]
     },
     "metadata": {},
     "output_type": "display_data"
    }
   ],
   "source": [
    "import numpy as np\n",
    "import matplotlib.pyplot as plt\n",
    "import matplotlib as mpl\n",
    "import pickle\n",
    "from IPython.core.display import display\n",
    "from ipywidgets import interactive\n",
    "\n",
    "with open('PerformanceData.pkl','rb') as op:\n",
    "    imslist = pickle.load(op)\n",
    "    \n",
    "def f(tau,T):\n",
    "    fig,ax = plt.subplots(figsize=(10,10))\n",
    "    m1,M = imslist[tau,T][0],imslist[tau,T][1]\n",
    "    ims = imslist[tau,T][2]\n",
    "    im = plt.imshow(ims,origin='lower')\n",
    "    ax.set_ylabel(r'$\\chi$',fontsize=18)\n",
    "    ax.set_xlabel(r'$(\\delta_0+\\delta_1)/2$' '\\n' r'$\\delta_0$=0, $\\delta_1 \\in [0,1] \\leftarrow$                 $\\rightarrow\\delta_0 \\in [0,1]$, $\\delta_1$=1',fontsize=18)\n",
    "    ax.set_title(r'Time: {}, $\\tau$:{}'.format(T,tau),fontsize=18)\n",
    "    ax.set_yticks(range(np.shape(ims)[0]))\n",
    "    ax.set_yticklabels(np.arange(0,np.shape(ims)[0])/(np.shape(ims)[0]-1),fontsize=18)\n",
    "    ax.set_xticks(range(np.shape(ims)[1]))\n",
    "    ax.set_xticklabels(list(np.arange(0,np.shape(ims)[1])/(np.shape(ims)[1]-1))+\n",
    "                       list(np.arange(1,np.shape(ims)[1])/(np.shape(ims)[1]-1)),fontsize=18,rotation=45)\n",
    "\n",
    "    norm = mpl.colors.Normalize(vmin=0,vmax=1)\n",
    "\n",
    "    cmap = mpl.colors.ListedColormap([np.array([k,0,0,0.5])+np.array([(1-k),(1-k),(1-k),0.5]) for k in np.linspace(0,1,1000)])\n",
    "    sm = plt.cm.ScalarMappable(cmap=cmap, norm=norm)\n",
    "    sm.set_array([])\n",
    "    cbaxes = fig.add_axes([0.93, 0.25, 0.03, 0.5]) \n",
    "    cbar = plt.colorbar(sm, cax = cbaxes)#, pad=0.04)\n",
    "    cbar.set_ticks([])\n",
    "\n",
    "    cmap = mpl.colors.ListedColormap([np.array([0,k,0,0.5])+np.array([(1-k),(1-k),(1-k),0.5]) for k in np.linspace(0,1,1000)])\n",
    "    sm = plt.cm.ScalarMappable(cmap=cmap, norm=norm)\n",
    "    sm.set_array([])\n",
    "    cbaxes = fig.add_axes([0.96, 0.25, 0.03, 0.5]) \n",
    "    cbar = plt.colorbar(sm, cax = cbaxes)#, pad=0.04)\n",
    "    cbar.set_ticks([])\n",
    "\n",
    "    cmap = mpl.colors.ListedColormap([np.array([0,0,k,0.5])+np.array([(1-k),(1-k),(1-k),0.5]) for k in np.linspace(0,1,1000)])\n",
    "    sm = plt.cm.ScalarMappable(cmap=cmap, norm=norm)\n",
    "    sm.set_array([])\n",
    "    cbaxes = fig.add_axes([0.99, 0.25, 0.03, 0.5]) \n",
    "    cbar = plt.colorbar(sm, cax = cbaxes)#, pad=0.04)\n",
    "    cbar.set_ticks([0,1])\n",
    "    cbar.set_ticklabels([round(m1,2),round(M,2)])\n",
    "    plt.show()\n",
    "\n",
    "    return None\n",
    "\n",
    "display(interactive(f,tau = [0.01,0.05,0.1,1.0], T = (0,499)))"
   ]
  }
 ],
 "metadata": {
  "kernelspec": {
   "display_name": "Python 3",
   "language": "python",
   "name": "python3"
  },
  "language_info": {
   "codemirror_mode": {
    "name": "ipython",
    "version": 3
   },
   "file_extension": ".py",
   "mimetype": "text/x-python",
   "name": "python",
   "nbconvert_exporter": "python",
   "pygments_lexer": "ipython3",
   "version": "3.7.3"
  }
 },
 "nbformat": 4,
 "nbformat_minor": 2
}
